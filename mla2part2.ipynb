{
 "cells": [
  {
   "cell_type": "code",
   "execution_count": 1,
   "id": "008127e4",
   "metadata": {
    "_cell_guid": "b1076dfc-b9ad-4769-8c92-a6c4dae69d19",
    "_uuid": "8f2839f25d086af736a60e9eeb907d3b93b6e0e5",
    "execution": {
     "iopub.execute_input": "2023-12-14T19:56:03.054433Z",
     "iopub.status.busy": "2023-12-14T19:56:03.053857Z",
     "iopub.status.idle": "2023-12-14T19:56:04.274507Z",
     "shell.execute_reply": "2023-12-14T19:56:04.273657Z"
    },
    "papermill": {
     "duration": 1.229546,
     "end_time": "2023-12-14T19:56:04.276404",
     "exception": false,
     "start_time": "2023-12-14T19:56:03.046858",
     "status": "completed"
    },
    "tags": []
   },
   "outputs": [
    {
     "data": {
      "text/html": [
       "<div>\n",
       "<style scoped>\n",
       "    .dataframe tbody tr th:only-of-type {\n",
       "        vertical-align: middle;\n",
       "    }\n",
       "\n",
       "    .dataframe tbody tr th {\n",
       "        vertical-align: top;\n",
       "    }\n",
       "\n",
       "    .dataframe thead th {\n",
       "        text-align: right;\n",
       "    }\n",
       "</style>\n",
       "<table border=\"1\" class=\"dataframe\">\n",
       "  <thead>\n",
       "    <tr style=\"text-align: right;\">\n",
       "      <th></th>\n",
       "      <th>id</th>\n",
       "      <th>Date</th>\n",
       "      <th>number of bedrooms</th>\n",
       "      <th>number of bathrooms</th>\n",
       "      <th>living area</th>\n",
       "      <th>lot area</th>\n",
       "      <th>number of floors</th>\n",
       "      <th>waterfront present</th>\n",
       "      <th>number of views</th>\n",
       "      <th>condition of the house</th>\n",
       "      <th>...</th>\n",
       "      <th>Built Year</th>\n",
       "      <th>Renovation Year</th>\n",
       "      <th>Postal Code</th>\n",
       "      <th>Lattitude</th>\n",
       "      <th>Longitude</th>\n",
       "      <th>living_area_renov</th>\n",
       "      <th>lot_area_renov</th>\n",
       "      <th>Number of schools nearby</th>\n",
       "      <th>Distance from the airport</th>\n",
       "      <th>Price</th>\n",
       "    </tr>\n",
       "  </thead>\n",
       "  <tbody>\n",
       "    <tr>\n",
       "      <th>count</th>\n",
       "      <td>1.462000e+04</td>\n",
       "      <td>14620.000000</td>\n",
       "      <td>14620.000000</td>\n",
       "      <td>14620.000000</td>\n",
       "      <td>14620.000000</td>\n",
       "      <td>1.462000e+04</td>\n",
       "      <td>14620.000000</td>\n",
       "      <td>14620.000000</td>\n",
       "      <td>14620.000000</td>\n",
       "      <td>14620.000000</td>\n",
       "      <td>...</td>\n",
       "      <td>14620.000000</td>\n",
       "      <td>14620.000000</td>\n",
       "      <td>14620.000000</td>\n",
       "      <td>14620.000000</td>\n",
       "      <td>14620.000000</td>\n",
       "      <td>14620.000000</td>\n",
       "      <td>14620.000000</td>\n",
       "      <td>14620.000000</td>\n",
       "      <td>14620.000000</td>\n",
       "      <td>1.462000e+04</td>\n",
       "    </tr>\n",
       "    <tr>\n",
       "      <th>mean</th>\n",
       "      <td>6.762821e+09</td>\n",
       "      <td>42604.538646</td>\n",
       "      <td>3.379343</td>\n",
       "      <td>2.129583</td>\n",
       "      <td>2098.262996</td>\n",
       "      <td>1.509328e+04</td>\n",
       "      <td>1.502360</td>\n",
       "      <td>0.007661</td>\n",
       "      <td>0.233105</td>\n",
       "      <td>3.430506</td>\n",
       "      <td>...</td>\n",
       "      <td>1970.926402</td>\n",
       "      <td>90.924008</td>\n",
       "      <td>122033.062244</td>\n",
       "      <td>52.792848</td>\n",
       "      <td>-114.404007</td>\n",
       "      <td>1996.702257</td>\n",
       "      <td>12753.500068</td>\n",
       "      <td>2.012244</td>\n",
       "      <td>64.950958</td>\n",
       "      <td>5.389322e+05</td>\n",
       "    </tr>\n",
       "    <tr>\n",
       "      <th>std</th>\n",
       "      <td>6.237575e+03</td>\n",
       "      <td>67.347991</td>\n",
       "      <td>0.938719</td>\n",
       "      <td>0.769934</td>\n",
       "      <td>928.275721</td>\n",
       "      <td>3.791962e+04</td>\n",
       "      <td>0.540239</td>\n",
       "      <td>0.087193</td>\n",
       "      <td>0.766259</td>\n",
       "      <td>0.664151</td>\n",
       "      <td>...</td>\n",
       "      <td>29.493625</td>\n",
       "      <td>416.216661</td>\n",
       "      <td>19.082418</td>\n",
       "      <td>0.137522</td>\n",
       "      <td>0.141326</td>\n",
       "      <td>691.093366</td>\n",
       "      <td>26058.414467</td>\n",
       "      <td>0.817284</td>\n",
       "      <td>8.936008</td>\n",
       "      <td>3.675324e+05</td>\n",
       "    </tr>\n",
       "    <tr>\n",
       "      <th>min</th>\n",
       "      <td>6.762810e+09</td>\n",
       "      <td>42491.000000</td>\n",
       "      <td>1.000000</td>\n",
       "      <td>0.500000</td>\n",
       "      <td>370.000000</td>\n",
       "      <td>5.200000e+02</td>\n",
       "      <td>1.000000</td>\n",
       "      <td>0.000000</td>\n",
       "      <td>0.000000</td>\n",
       "      <td>1.000000</td>\n",
       "      <td>...</td>\n",
       "      <td>1900.000000</td>\n",
       "      <td>0.000000</td>\n",
       "      <td>122003.000000</td>\n",
       "      <td>52.385900</td>\n",
       "      <td>-114.709000</td>\n",
       "      <td>460.000000</td>\n",
       "      <td>651.000000</td>\n",
       "      <td>1.000000</td>\n",
       "      <td>50.000000</td>\n",
       "      <td>7.800000e+04</td>\n",
       "    </tr>\n",
       "    <tr>\n",
       "      <th>25%</th>\n",
       "      <td>6.762815e+09</td>\n",
       "      <td>42546.000000</td>\n",
       "      <td>3.000000</td>\n",
       "      <td>1.750000</td>\n",
       "      <td>1440.000000</td>\n",
       "      <td>5.010750e+03</td>\n",
       "      <td>1.000000</td>\n",
       "      <td>0.000000</td>\n",
       "      <td>0.000000</td>\n",
       "      <td>3.000000</td>\n",
       "      <td>...</td>\n",
       "      <td>1951.000000</td>\n",
       "      <td>0.000000</td>\n",
       "      <td>122017.000000</td>\n",
       "      <td>52.707600</td>\n",
       "      <td>-114.519000</td>\n",
       "      <td>1490.000000</td>\n",
       "      <td>5097.750000</td>\n",
       "      <td>1.000000</td>\n",
       "      <td>57.000000</td>\n",
       "      <td>3.200000e+05</td>\n",
       "    </tr>\n",
       "    <tr>\n",
       "      <th>50%</th>\n",
       "      <td>6.762821e+09</td>\n",
       "      <td>42600.000000</td>\n",
       "      <td>3.000000</td>\n",
       "      <td>2.250000</td>\n",
       "      <td>1930.000000</td>\n",
       "      <td>7.620000e+03</td>\n",
       "      <td>1.500000</td>\n",
       "      <td>0.000000</td>\n",
       "      <td>0.000000</td>\n",
       "      <td>3.000000</td>\n",
       "      <td>...</td>\n",
       "      <td>1975.000000</td>\n",
       "      <td>0.000000</td>\n",
       "      <td>122032.000000</td>\n",
       "      <td>52.806400</td>\n",
       "      <td>-114.421000</td>\n",
       "      <td>1850.000000</td>\n",
       "      <td>7620.000000</td>\n",
       "      <td>2.000000</td>\n",
       "      <td>65.000000</td>\n",
       "      <td>4.500000e+05</td>\n",
       "    </tr>\n",
       "    <tr>\n",
       "      <th>75%</th>\n",
       "      <td>6.762826e+09</td>\n",
       "      <td>42662.000000</td>\n",
       "      <td>4.000000</td>\n",
       "      <td>2.500000</td>\n",
       "      <td>2570.000000</td>\n",
       "      <td>1.080000e+04</td>\n",
       "      <td>2.000000</td>\n",
       "      <td>0.000000</td>\n",
       "      <td>0.000000</td>\n",
       "      <td>4.000000</td>\n",
       "      <td>...</td>\n",
       "      <td>1997.000000</td>\n",
       "      <td>0.000000</td>\n",
       "      <td>122048.000000</td>\n",
       "      <td>52.908900</td>\n",
       "      <td>-114.315000</td>\n",
       "      <td>2380.000000</td>\n",
       "      <td>10125.000000</td>\n",
       "      <td>3.000000</td>\n",
       "      <td>73.000000</td>\n",
       "      <td>6.450000e+05</td>\n",
       "    </tr>\n",
       "    <tr>\n",
       "      <th>max</th>\n",
       "      <td>6.762832e+09</td>\n",
       "      <td>42734.000000</td>\n",
       "      <td>33.000000</td>\n",
       "      <td>8.000000</td>\n",
       "      <td>13540.000000</td>\n",
       "      <td>1.074218e+06</td>\n",
       "      <td>3.500000</td>\n",
       "      <td>1.000000</td>\n",
       "      <td>4.000000</td>\n",
       "      <td>5.000000</td>\n",
       "      <td>...</td>\n",
       "      <td>2015.000000</td>\n",
       "      <td>2015.000000</td>\n",
       "      <td>122072.000000</td>\n",
       "      <td>53.007600</td>\n",
       "      <td>-113.505000</td>\n",
       "      <td>6110.000000</td>\n",
       "      <td>560617.000000</td>\n",
       "      <td>3.000000</td>\n",
       "      <td>80.000000</td>\n",
       "      <td>7.700000e+06</td>\n",
       "    </tr>\n",
       "  </tbody>\n",
       "</table>\n",
       "<p>8 rows × 23 columns</p>\n",
       "</div>"
      ],
      "text/plain": [
       "                 id          Date  number of bedrooms  number of bathrooms  \\\n",
       "count  1.462000e+04  14620.000000        14620.000000         14620.000000   \n",
       "mean   6.762821e+09  42604.538646            3.379343             2.129583   \n",
       "std    6.237575e+03     67.347991            0.938719             0.769934   \n",
       "min    6.762810e+09  42491.000000            1.000000             0.500000   \n",
       "25%    6.762815e+09  42546.000000            3.000000             1.750000   \n",
       "50%    6.762821e+09  42600.000000            3.000000             2.250000   \n",
       "75%    6.762826e+09  42662.000000            4.000000             2.500000   \n",
       "max    6.762832e+09  42734.000000           33.000000             8.000000   \n",
       "\n",
       "        living area      lot area  number of floors  waterfront present  \\\n",
       "count  14620.000000  1.462000e+04      14620.000000        14620.000000   \n",
       "mean    2098.262996  1.509328e+04          1.502360            0.007661   \n",
       "std      928.275721  3.791962e+04          0.540239            0.087193   \n",
       "min      370.000000  5.200000e+02          1.000000            0.000000   \n",
       "25%     1440.000000  5.010750e+03          1.000000            0.000000   \n",
       "50%     1930.000000  7.620000e+03          1.500000            0.000000   \n",
       "75%     2570.000000  1.080000e+04          2.000000            0.000000   \n",
       "max    13540.000000  1.074218e+06          3.500000            1.000000   \n",
       "\n",
       "       number of views  condition of the house  ...    Built Year  \\\n",
       "count     14620.000000            14620.000000  ...  14620.000000   \n",
       "mean          0.233105                3.430506  ...   1970.926402   \n",
       "std           0.766259                0.664151  ...     29.493625   \n",
       "min           0.000000                1.000000  ...   1900.000000   \n",
       "25%           0.000000                3.000000  ...   1951.000000   \n",
       "50%           0.000000                3.000000  ...   1975.000000   \n",
       "75%           0.000000                4.000000  ...   1997.000000   \n",
       "max           4.000000                5.000000  ...   2015.000000   \n",
       "\n",
       "       Renovation Year    Postal Code     Lattitude     Longitude  \\\n",
       "count     14620.000000   14620.000000  14620.000000  14620.000000   \n",
       "mean         90.924008  122033.062244     52.792848   -114.404007   \n",
       "std         416.216661      19.082418      0.137522      0.141326   \n",
       "min           0.000000  122003.000000     52.385900   -114.709000   \n",
       "25%           0.000000  122017.000000     52.707600   -114.519000   \n",
       "50%           0.000000  122032.000000     52.806400   -114.421000   \n",
       "75%           0.000000  122048.000000     52.908900   -114.315000   \n",
       "max        2015.000000  122072.000000     53.007600   -113.505000   \n",
       "\n",
       "       living_area_renov  lot_area_renov  Number of schools nearby  \\\n",
       "count       14620.000000    14620.000000              14620.000000   \n",
       "mean         1996.702257    12753.500068                  2.012244   \n",
       "std           691.093366    26058.414467                  0.817284   \n",
       "min           460.000000      651.000000                  1.000000   \n",
       "25%          1490.000000     5097.750000                  1.000000   \n",
       "50%          1850.000000     7620.000000                  2.000000   \n",
       "75%          2380.000000    10125.000000                  3.000000   \n",
       "max          6110.000000   560617.000000                  3.000000   \n",
       "\n",
       "       Distance from the airport         Price  \n",
       "count               14620.000000  1.462000e+04  \n",
       "mean                   64.950958  5.389322e+05  \n",
       "std                     8.936008  3.675324e+05  \n",
       "min                    50.000000  7.800000e+04  \n",
       "25%                    57.000000  3.200000e+05  \n",
       "50%                    65.000000  4.500000e+05  \n",
       "75%                    73.000000  6.450000e+05  \n",
       "max                    80.000000  7.700000e+06  \n",
       "\n",
       "[8 rows x 23 columns]"
      ]
     },
     "execution_count": 1,
     "metadata": {},
     "output_type": "execute_result"
    }
   ],
   "source": [
    "import pandas as pd\n",
    "import numpy as np\n",
    "import matplotlib.pyplot as plt\n",
    "import scipy\n",
    "from sklearn.preprocessing import MinMaxScaler\n",
    "\n",
    "df = pd.read_csv('/kaggle/input/mla2-part2/mla2part2.csv')\n",
    "df.describe()"
   ]
  },
  {
   "cell_type": "code",
   "execution_count": 2,
   "id": "dd369a59",
   "metadata": {
    "execution": {
     "iopub.execute_input": "2023-12-14T19:56:04.288572Z",
     "iopub.status.busy": "2023-12-14T19:56:04.288287Z",
     "iopub.status.idle": "2023-12-14T19:56:04.307825Z",
     "shell.execute_reply": "2023-12-14T19:56:04.307274Z"
    },
    "papermill": {
     "duration": 0.027471,
     "end_time": "2023-12-14T19:56:04.309433",
     "exception": false,
     "start_time": "2023-12-14T19:56:04.281962",
     "status": "completed"
    },
    "tags": []
   },
   "outputs": [
    {
     "data": {
      "text/plain": [
       "0"
      ]
     },
     "execution_count": 2,
     "metadata": {},
     "output_type": "execute_result"
    }
   ],
   "source": [
    "df.duplicated().sum()"
   ]
  },
  {
   "cell_type": "markdown",
   "id": "7383f27b",
   "metadata": {
    "papermill": {
     "duration": 0.005217,
     "end_time": "2023-12-14T19:56:04.320113",
     "exception": false,
     "start_time": "2023-12-14T19:56:04.314896",
     "status": "completed"
    },
    "tags": []
   },
   "source": [
    "identifying columns in the DataFrame that contain string/object data, converting them into categorical type, and then transforming the categorical values into corresponding numerical codes, replacing the original string/object data in those columns."
   ]
  },
  {
   "cell_type": "code",
   "execution_count": 3,
   "id": "b9face0f",
   "metadata": {
    "execution": {
     "iopub.execute_input": "2023-12-14T19:56:04.331714Z",
     "iopub.status.busy": "2023-12-14T19:56:04.331480Z",
     "iopub.status.idle": "2023-12-14T19:56:04.335973Z",
     "shell.execute_reply": "2023-12-14T19:56:04.335182Z"
    },
    "papermill": {
     "duration": 0.011934,
     "end_time": "2023-12-14T19:56:04.337365",
     "exception": false,
     "start_time": "2023-12-14T19:56:04.325431",
     "status": "completed"
    },
    "tags": []
   },
   "outputs": [],
   "source": [
    "for col in df.columns:\n",
    "    if(df[col].dtype=='object'):\n",
    "        df[col]=df[col].astype('category')\n",
    "        df[col]=df[col].cat.codes"
   ]
  },
  {
   "cell_type": "markdown",
   "id": "86cb0841",
   "metadata": {
    "papermill": {
     "duration": 0.005108,
     "end_time": "2023-12-14T19:56:04.347853",
     "exception": false,
     "start_time": "2023-12-14T19:56:04.342745",
     "status": "completed"
    },
    "tags": []
   },
   "source": [
    "We need the input data which doesn't contain the column 'Price', s we are dropping that and storing the other features in X."
   ]
  },
  {
   "cell_type": "code",
   "execution_count": 4,
   "id": "d7d8d4cf",
   "metadata": {
    "execution": {
     "iopub.execute_input": "2023-12-14T19:56:04.359565Z",
     "iopub.status.busy": "2023-12-14T19:56:04.359303Z",
     "iopub.status.idle": "2023-12-14T19:56:04.368040Z",
     "shell.execute_reply": "2023-12-14T19:56:04.367351Z"
    },
    "papermill": {
     "duration": 0.016274,
     "end_time": "2023-12-14T19:56:04.369513",
     "exception": false,
     "start_time": "2023-12-14T19:56:04.353239",
     "status": "completed"
    },
    "tags": []
   },
   "outputs": [
    {
     "name": "stdout",
     "output_type": "stream",
     "text": [
      "Shapes - X: (14620, 22)\n",
      "Data Types - X: float64\n"
     ]
    }
   ],
   "source": [
    "X = df.drop(columns='Price')\n",
    "X = np.asarray(X, dtype='float64')\n",
    "print(\"Shapes - X:\", X.shape)\n",
    "print(\"Data Types - X:\", X.dtype)"
   ]
  },
  {
   "cell_type": "code",
   "execution_count": 5,
   "id": "f4cd418c",
   "metadata": {
    "execution": {
     "iopub.execute_input": "2023-12-14T19:56:04.381920Z",
     "iopub.status.busy": "2023-12-14T19:56:04.381056Z",
     "iopub.status.idle": "2023-12-14T19:56:04.387139Z",
     "shell.execute_reply": "2023-12-14T19:56:04.386570Z"
    },
    "papermill": {
     "duration": 0.01376,
     "end_time": "2023-12-14T19:56:04.388692",
     "exception": false,
     "start_time": "2023-12-14T19:56:04.374932",
     "status": "completed"
    },
    "tags": []
   },
   "outputs": [
    {
     "data": {
      "text/plain": [
       "0    2380000\n",
       "1    1400000\n",
       "2    1200000\n",
       "3     838000\n",
       "4     805000\n",
       "Name: Price, dtype: int64"
      ]
     },
     "execution_count": 5,
     "metadata": {},
     "output_type": "execute_result"
    }
   ],
   "source": [
    "Y = df['Price']\n",
    "Y.head(5)"
   ]
  },
  {
   "cell_type": "code",
   "execution_count": 6,
   "id": "5f72bd06",
   "metadata": {
    "execution": {
     "iopub.execute_input": "2023-12-14T19:56:04.401176Z",
     "iopub.status.busy": "2023-12-14T19:56:04.400706Z",
     "iopub.status.idle": "2023-12-14T19:56:04.488507Z",
     "shell.execute_reply": "2023-12-14T19:56:04.487602Z"
    },
    "papermill": {
     "duration": 0.09574,
     "end_time": "2023-12-14T19:56:04.490042",
     "exception": false,
     "start_time": "2023-12-14T19:56:04.394302",
     "status": "completed"
    },
    "tags": []
   },
   "outputs": [
    {
     "name": "stdout",
     "output_type": "stream",
     "text": [
      "(10234, 22)\n",
      "(4386, 22)\n",
      "(10234,)\n",
      "(4386,)\n"
     ]
    }
   ],
   "source": [
    "from sklearn.model_selection import train_test_split\n",
    "X_train,X_test,Y_train,Y_test = train_test_split(X,Y,test_size=0.3,random_state=0)\n",
    "\n",
    "print(X_train.shape)\n",
    "print(X_test.shape)\n",
    "print(Y_train.shape)\n",
    "print(Y_test.shape)"
   ]
  },
  {
   "cell_type": "markdown",
   "id": "3f808f21",
   "metadata": {
    "papermill": {
     "duration": 0.005489,
     "end_time": "2023-12-14T19:56:04.501510",
     "exception": false,
     "start_time": "2023-12-14T19:56:04.496021",
     "status": "completed"
    },
    "tags": []
   },
   "source": [
    "# Activation Functions"
   ]
  },
  {
   "cell_type": "markdown",
   "id": "3f09d442",
   "metadata": {
    "papermill": {
     "duration": 0.005419,
     "end_time": "2023-12-14T19:56:04.512505",
     "exception": false,
     "start_time": "2023-12-14T19:56:04.507086",
     "status": "completed"
    },
    "tags": []
   },
   "source": [
    "These are mathematical functions commonly used in machine learning and neural networks for introducing non-linearity or maintaining linearity in the activation of neurons or nodes. Each of these functions serves a different purpose in neural networks involving transformations of data or outputs within a neural network layer."
   ]
  },
  {
   "cell_type": "code",
   "execution_count": 7,
   "id": "17b88d5e",
   "metadata": {
    "execution": {
     "iopub.execute_input": "2023-12-14T19:56:04.525683Z",
     "iopub.status.busy": "2023-12-14T19:56:04.525363Z",
     "iopub.status.idle": "2023-12-14T19:56:04.530073Z",
     "shell.execute_reply": "2023-12-14T19:56:04.529303Z"
    },
    "papermill": {
     "duration": 0.013046,
     "end_time": "2023-12-14T19:56:04.531738",
     "exception": false,
     "start_time": "2023-12-14T19:56:04.518692",
     "status": "completed"
    },
    "tags": []
   },
   "outputs": [],
   "source": [
    "def sigmoid(x):\n",
    "    return 1 / (1 + np.exp(-x))\n",
    "\n",
    "def relu(x):\n",
    "    return np.maximum(0, x)\n",
    "\n",
    "def tanh(x):\n",
    "    return np.tanh(x)\n",
    "\n",
    "def linear(x):\n",
    "    return x"
   ]
  },
  {
   "cell_type": "markdown",
   "id": "ce2ba302",
   "metadata": {
    "papermill": {
     "duration": 0.005335,
     "end_time": "2023-12-14T19:56:04.542643",
     "exception": false,
     "start_time": "2023-12-14T19:56:04.537308",
     "status": "completed"
    },
    "tags": []
   },
   "source": [
    "# Loss Functions"
   ]
  },
  {
   "cell_type": "markdown",
   "id": "c88f55bd",
   "metadata": {
    "papermill": {
     "duration": 0.005465,
     "end_time": "2023-12-14T19:56:04.553586",
     "exception": false,
     "start_time": "2023-12-14T19:56:04.548121",
     "status": "completed"
    },
    "tags": []
   },
   "source": [
    "These are commonly used error or loss functions in machine learning for evaluating the performance of regression models. Each of these error functions measures the discrepancy or difference between predicted values and true values in a regression setting, helping to assess the performance of machine learning models by quantifying the errors made by the model in predicting the target values."
   ]
  },
  {
   "cell_type": "code",
   "execution_count": 8,
   "id": "7c49ec89",
   "metadata": {
    "execution": {
     "iopub.execute_input": "2023-12-14T19:56:04.565604Z",
     "iopub.status.busy": "2023-12-14T19:56:04.565327Z",
     "iopub.status.idle": "2023-12-14T19:56:04.570182Z",
     "shell.execute_reply": "2023-12-14T19:56:04.569445Z"
    },
    "papermill": {
     "duration": 0.0126,
     "end_time": "2023-12-14T19:56:04.571676",
     "exception": false,
     "start_time": "2023-12-14T19:56:04.559076",
     "status": "completed"
    },
    "tags": []
   },
   "outputs": [],
   "source": [
    "def mean_squared_error(predictions, targets):\n",
    "    m = targets.shape[0]\n",
    "    loss = np.sum((predictions - targets) ** 2) / m\n",
    "    return loss\n",
    "\n",
    "def mean_absolute_error(predictions, targets):\n",
    "    m = targets.shape[0]\n",
    "    error = np.sum(np.abs(predictions - targets)) / m\n",
    "    return error\n",
    "\n",
    "def root_mean_squared_error(y_true, y_pred):\n",
    "    m = targets.shape[0]\n",
    "    error = np.sqrt(np.mean((y_true - y_pred) ** 2)) / m\n",
    "    return error"
   ]
  },
  {
   "cell_type": "markdown",
   "id": "17f4b093",
   "metadata": {
    "papermill": {
     "duration": 0.005438,
     "end_time": "2023-12-14T19:56:04.582687",
     "exception": false,
     "start_time": "2023-12-14T19:56:04.577249",
     "status": "completed"
    },
    "tags": []
   },
   "source": [
    "# Neural Network Implementation"
   ]
  },
  {
   "cell_type": "markdown",
   "id": "8d34c166",
   "metadata": {
    "papermill": {
     "duration": 0.00537,
     "end_time": "2023-12-14T19:56:04.593536",
     "exception": false,
     "start_time": "2023-12-14T19:56:04.588166",
     "status": "completed"
    },
    "tags": []
   },
   "source": [
    "This function, initialize_parameters, is used in neural network initialization for setting the initial values of weights and biases. Weight initialization scales these random values by multiplying with np.sqrt(2 / input_size). This scaling factor is used to prevent the weights from becoming too large or too small during initialization, which can affect learning. Overall, this function sets up the initial parameters (weights and biases) of a neural network model based on the specified layer sizes, using random initialization with specific scaling factors to facilitate better convergence and learning during the training process."
   ]
  },
  {
   "cell_type": "code",
   "execution_count": 9,
   "id": "ce4a4b17",
   "metadata": {
    "execution": {
     "iopub.execute_input": "2023-12-14T19:56:04.607081Z",
     "iopub.status.busy": "2023-12-14T19:56:04.606603Z",
     "iopub.status.idle": "2023-12-14T19:56:04.610901Z",
     "shell.execute_reply": "2023-12-14T19:56:04.610349Z"
    },
    "papermill": {
     "duration": 0.013329,
     "end_time": "2023-12-14T19:56:04.612343",
     "exception": false,
     "start_time": "2023-12-14T19:56:04.599014",
     "status": "completed"
    },
    "tags": []
   },
   "outputs": [],
   "source": [
    "def initialize_parameters(input_size, hidden_size, output_size):\n",
    "    np.random.seed(0)\n",
    "    weights_1 = np.random.randn(hidden_size, input_size) * np.sqrt(2 / input_size)\n",
    "    biases_1 = np.zeros((hidden_size, 1))\n",
    "    weights_2 = np.random.randn(output_size, hidden_size) * np.sqrt(2 / hidden_size)\n",
    "    biases_2 = np.zeros((output_size, 1))\n",
    "    return weights_1, biases_1, weights_2, biases_2"
   ]
  },
  {
   "cell_type": "markdown",
   "id": "2a7b886c",
   "metadata": {
    "papermill": {
     "duration": 0.005395,
     "end_time": "2023-12-14T19:56:04.623379",
     "exception": false,
     "start_time": "2023-12-14T19:56:04.617984",
     "status": "completed"
    },
    "tags": []
   },
   "source": [
    "## Forward Propagation: \n",
    "* Linear activation function for results of the input layer\n",
    "* ReLU activation function for the results of the hidden layer"
   ]
  },
  {
   "cell_type": "code",
   "execution_count": 10,
   "id": "c3d4fccf",
   "metadata": {
    "execution": {
     "iopub.execute_input": "2023-12-14T19:56:04.636088Z",
     "iopub.status.busy": "2023-12-14T19:56:04.635667Z",
     "iopub.status.idle": "2023-12-14T19:56:04.639762Z",
     "shell.execute_reply": "2023-12-14T19:56:04.639188Z"
    },
    "papermill": {
     "duration": 0.012327,
     "end_time": "2023-12-14T19:56:04.641199",
     "exception": false,
     "start_time": "2023-12-14T19:56:04.628872",
     "status": "completed"
    },
    "tags": []
   },
   "outputs": [],
   "source": [
    "def forward_propagation(input_data, parameters):\n",
    "    weights_1, biases_1, weights_2, biases_2 = parameters\n",
    "    Z1 = np.dot(weights_1, input_data.T) + biases_1\n",
    "    A1 = linear(Z1) \n",
    "    Z2 = np.dot(weights_2, A1) + biases_2\n",
    "    A2 = linear(Z2)\n",
    "    cache = {\"Z1\": Z1, \"A1\": A1, \"Z2\": Z2, \"A2\": A2}\n",
    "    return A2, cache"
   ]
  },
  {
   "cell_type": "markdown",
   "id": "db556333",
   "metadata": {
    "papermill": {
     "duration": 0.005373,
     "end_time": "2023-12-14T19:56:04.652241",
     "exception": false,
     "start_time": "2023-12-14T19:56:04.646868",
     "status": "completed"
    },
    "tags": []
   },
   "source": [
    "# Backward Propagation"
   ]
  },
  {
   "cell_type": "markdown",
   "id": "ba9f0329",
   "metadata": {
    "papermill": {
     "duration": 0.005442,
     "end_time": "2023-12-14T19:56:04.663189",
     "exception": false,
     "start_time": "2023-12-14T19:56:04.657747",
     "status": "completed"
    },
    "tags": []
   },
   "source": [
    "This function, backward_propagation, is a part of the backpropagation process in a neural network used for computing gradients of the loss function with respect to the model parameters. Overall, this function computes the gradients of the loss function with respect to the parameters (weights and biases) using backpropagation, enabling the optimization algorithm to update the neural network's parameters to minimize the loss and improve prediction accuracy."
   ]
  },
  {
   "cell_type": "code",
   "execution_count": 11,
   "id": "6dd78e3b",
   "metadata": {
    "execution": {
     "iopub.execute_input": "2023-12-14T19:56:04.675762Z",
     "iopub.status.busy": "2023-12-14T19:56:04.675316Z",
     "iopub.status.idle": "2023-12-14T19:56:04.680847Z",
     "shell.execute_reply": "2023-12-14T19:56:04.680295Z"
    },
    "papermill": {
     "duration": 0.013622,
     "end_time": "2023-12-14T19:56:04.682286",
     "exception": false,
     "start_time": "2023-12-14T19:56:04.668664",
     "status": "completed"
    },
    "tags": []
   },
   "outputs": [],
   "source": [
    "def backward_propagation(parameters, cache, input_data, labels):\n",
    "    m = labels.shape[0]\n",
    "    Z1, A1, Z2, A2 = cache[\"Z1\"], cache[\"A1\"], cache[\"Z2\"], cache[\"A2\"]\n",
    "\n",
    "    labelsT = labels.T\n",
    "    dA2 = - (labelsT / A2) + ((1 - labelsT) / (1 - A2))\n",
    "    dZ2 = dA2 * (A2 * (1-A2))\n",
    "    dW2 = (1/m) * np.dot(dZ2, A1.T)\n",
    "    db2 = (1/m) * np.sum(dZ2, axis=1, keepdims=True)\n",
    "    \n",
    "    dA1 = np.dot(parameters[2].T, dZ2)\n",
    "    dZ1 = dA1 * (A1 * (1-A1))\n",
    "    dW1 = (1/m) * np.dot(dZ1, input_data)\n",
    "    db1 = (1/m) * np.sum(dZ1, axis=1, keepdims=True)\n",
    "\n",
    "    return dW1, db1, dW2, db2"
   ]
  },
  {
   "cell_type": "markdown",
   "id": "7c08aed7",
   "metadata": {
    "papermill": {
     "duration": 0.005463,
     "end_time": "2023-12-14T19:56:04.693235",
     "exception": false,
     "start_time": "2023-12-14T19:56:04.687772",
     "status": "completed"
    },
    "tags": []
   },
   "source": [
    "The function update_parameters is responsible for updating the parameters (weights and biases) of a neural network using the gradients obtained from the backpropagation process. This function implements the gradient descent algorithm by subtracting a fraction of the gradients (scaled by the learning rate) from the current parameter values, aiming to minimize the loss function and improve the neural network's performance during training."
   ]
  },
  {
   "cell_type": "code",
   "execution_count": 12,
   "id": "d0ab5918",
   "metadata": {
    "execution": {
     "iopub.execute_input": "2023-12-14T19:56:04.705407Z",
     "iopub.status.busy": "2023-12-14T19:56:04.705024Z",
     "iopub.status.idle": "2023-12-14T19:56:04.708736Z",
     "shell.execute_reply": "2023-12-14T19:56:04.708197Z"
    },
    "papermill": {
     "duration": 0.011435,
     "end_time": "2023-12-14T19:56:04.710143",
     "exception": false,
     "start_time": "2023-12-14T19:56:04.698708",
     "status": "completed"
    },
    "tags": []
   },
   "outputs": [],
   "source": [
    "def update_parameters(parameters, gradients, learning_rate):\n",
    "    dW1, db1, dW2, db2 = gradients\n",
    "    weights_1, biases_1, weights_2, biases_2 = parameters\n",
    " \n",
    "    weights_1 = weights_1 - learning_rate * dW1\n",
    "    biases_1 = biases_1 - learning_rate * db1\n",
    "    weights_2 = weights_2 - learning_rate * dW2\n",
    "    biases_2 = biases_2 - learning_rate * db2\n",
    "    \n",
    "    return weights_1, biases_1, weights_2, biases_2"
   ]
  },
  {
   "cell_type": "markdown",
   "id": "7eac0100",
   "metadata": {
    "papermill": {
     "duration": 0.005701,
     "end_time": "2023-12-14T19:56:04.721350",
     "exception": false,
     "start_time": "2023-12-14T19:56:04.715649",
     "status": "completed"
    },
    "tags": []
   },
   "source": [
    "'Train\" function is used to train a neural network using a custom training loop.\n",
    "Iterates for num_iterations:\n",
    "Performs forward propagation to get the output predictions and caches the values.\n",
    "Computes the loss using mean_absolute_error function.\n",
    "Performs backward propagation to compute gradients of the loss with respect to the parameters.\n",
    "Clips the gradients using np.clip to prevent them from exceeding a certain threshold (-clip_value to clip_value).\n",
    "Updates the network parameters using gradient descent with update_parameters.\n",
    "Checks for conditions to potentially stop training:\n",
    "NaN loss check: If loss becomes NaN, the training stops.\n",
    "Checks for a change in loss smaller than the tolerance.\n",
    "Checks if the loss is increasing (early stopping condition).\n",
    "Prints loss at every tenth iteration."
   ]
  },
  {
   "cell_type": "code",
   "execution_count": 13,
   "id": "a5a3d57a",
   "metadata": {
    "execution": {
     "iopub.execute_input": "2023-12-14T19:56:04.733900Z",
     "iopub.status.busy": "2023-12-14T19:56:04.733486Z",
     "iopub.status.idle": "2023-12-14T19:56:04.739410Z",
     "shell.execute_reply": "2023-12-14T19:56:04.738867Z"
    },
    "papermill": {
     "duration": 0.013623,
     "end_time": "2023-12-14T19:56:04.740795",
     "exception": false,
     "start_time": "2023-12-14T19:56:04.727172",
     "status": "completed"
    },
    "tags": []
   },
   "outputs": [],
   "source": [
    "def train(features, labels, hidden_layer_size, num_iterations, learning_rate, clip_value=2.0, tolerance=1e-6):\n",
    "    network_parameters = initialize_parameters(features.shape[1], hidden_layer_size, 1)\n",
    "    prev_loss = float('inf')\n",
    "    \n",
    "    optimal_parameters = network_parameters\n",
    "    \n",
    "    for i in range(num_iterations):\n",
    "        output, cache = forward_propagation(features, network_parameters)\n",
    "        loss = mean_absolute_error(output, labels)\n",
    "        gradients = backward_propagation(network_parameters, cache, features, labels)\n",
    "        \n",
    "        for gradient in gradients:\n",
    "            np.clip(gradient, -clip_value, clip_value, out=gradient)\n",
    "        \n",
    "        network_parameters = update_parameters(network_parameters, gradients, learning_rate)\n",
    "        \n",
    "        if not np.isnan(loss):\n",
    "            optimal_parameters = network_parameters \n",
    "            \n",
    "        if prev_loss < loss:\n",
    "            print(f\"Early stopping at iteration {i} due to minima with loss {loss}\")\n",
    "            break\n",
    "        if abs(prev_loss - loss) < tolerance:\n",
    "            print(f\"Early stopping at iteration {i} due to tolerance limit with loss {loss}\")\n",
    "            break \n",
    "            \n",
    "        if i % 10 == 0:\n",
    "            print(f\"Iteration {i}: Loss = {loss}\")\n",
    "            \n",
    "        prev_loss = loss\n",
    "        \n",
    "    return optimal_parameters"
   ]
  },
  {
   "cell_type": "code",
   "execution_count": 14,
   "id": "0cc55f8d",
   "metadata": {
    "execution": {
     "iopub.execute_input": "2023-12-14T19:56:04.753081Z",
     "iopub.status.busy": "2023-12-14T19:56:04.752677Z",
     "iopub.status.idle": "2023-12-14T19:56:05.494725Z",
     "shell.execute_reply": "2023-12-14T19:56:05.493920Z"
    },
    "papermill": {
     "duration": 0.7501,
     "end_time": "2023-12-14T19:56:05.496447",
     "exception": false,
     "start_time": "2023-12-14T19:56:04.746347",
     "status": "completed"
    },
    "tags": []
   },
   "outputs": [
    {
     "name": "stdout",
     "output_type": "stream",
     "text": [
      "Iteration 0: Loss = 1737212571.9291844\n",
      "Iteration 10: Loss = 1495073889.8231373\n",
      "Iteration 20: Loss = 1253061435.7867646\n",
      "Iteration 30: Loss = 1011256995.1874495\n",
      "Iteration 40: Loss = 769675304.983246\n",
      "Iteration 50: Loss = 528372466.1417243\n",
      "Iteration 60: Loss = 287298795.5478638\n",
      "Iteration 70: Loss = 46590407.278540716\n",
      "Early stopping at iteration 73 due to minima with loss 22539832.94558511\n"
     ]
    }
   ],
   "source": [
    "if not isinstance(Y_train, np.ndarray):\n",
    "    Y_train = np.array(Y_train)\n",
    "\n",
    "trained_parameters = train(features=X_train, \n",
    "                           labels=Y_train, \n",
    "                           hidden_layer_size=128, \n",
    "                           num_iterations=10000,\n",
    "                           learning_rate=0.0001)"
   ]
  },
  {
   "cell_type": "markdown",
   "id": "282986a6",
   "metadata": {
    "papermill": {
     "duration": 0.007434,
     "end_time": "2023-12-14T19:56:05.511556",
     "exception": false,
     "start_time": "2023-12-14T19:56:05.504122",
     "status": "completed"
    },
    "tags": []
   },
   "source": [
    "predict function to generate predictions using a trained neural network and then prints out the shape and content of the predictions. The printed output shows the shape and values of these predictions."
   ]
  },
  {
   "cell_type": "code",
   "execution_count": 15,
   "id": "b4812d2e",
   "metadata": {
    "execution": {
     "iopub.execute_input": "2023-12-14T19:56:05.527605Z",
     "iopub.status.busy": "2023-12-14T19:56:05.527295Z",
     "iopub.status.idle": "2023-12-14T19:56:05.537494Z",
     "shell.execute_reply": "2023-12-14T19:56:05.536811Z"
    },
    "papermill": {
     "duration": 0.020559,
     "end_time": "2023-12-14T19:56:05.539491",
     "exception": false,
     "start_time": "2023-12-14T19:56:05.518932",
     "status": "completed"
    },
    "tags": []
   },
   "outputs": [
    {
     "name": "stdout",
     "output_type": "stream",
     "text": [
      "Predictions Size: (1, 4386)\n",
      "Predictions: [[2056325.89822262 2048231.74323129 2053569.95411801 ... 2053172.12922531\n",
      "  2057853.89323848 2048139.24532073]]\n"
     ]
    }
   ],
   "source": [
    "def predict(X, parameters):\n",
    "    A2, _ = forward_propagation(X, parameters)\n",
    "    return A2\n",
    "\n",
    "predictions = predict(X_test, trained_parameters)\n",
    "\n",
    "print(\"Predictions Size:\", predictions.shape)\n",
    "print(\"Predictions:\", predictions)"
   ]
  }
 ],
 "metadata": {
  "kaggle": {
   "accelerator": "none",
   "dataSources": [
    {
     "datasetId": 4164907,
     "sourceId": 7200477,
     "sourceType": "datasetVersion"
    }
   ],
   "dockerImageVersionId": 30626,
   "isGpuEnabled": false,
   "isInternetEnabled": true,
   "language": "python",
   "sourceType": "notebook"
  },
  "kernelspec": {
   "display_name": "Python 3",
   "language": "python",
   "name": "python3"
  },
  "language_info": {
   "codemirror_mode": {
    "name": "ipython",
    "version": 3
   },
   "file_extension": ".py",
   "mimetype": "text/x-python",
   "name": "python",
   "nbconvert_exporter": "python",
   "pygments_lexer": "ipython3",
   "version": "3.10.12"
  },
  "papermill": {
   "default_parameters": {},
   "duration": 5.131782,
   "end_time": "2023-12-14T19:56:05.877454",
   "environment_variables": {},
   "exception": null,
   "input_path": "__notebook__.ipynb",
   "output_path": "__notebook__.ipynb",
   "parameters": {},
   "start_time": "2023-12-14T19:56:00.745672",
   "version": "2.4.0"
  }
 },
 "nbformat": 4,
 "nbformat_minor": 5
}
